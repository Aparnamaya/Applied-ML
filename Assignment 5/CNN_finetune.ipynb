{
  "nbformat": 4,
  "nbformat_minor": 0,
  "metadata": {
    "colab": {
      "provenance": []
    },
    "kernelspec": {
      "name": "python3",
      "display_name": "Python 3"
    },
    "language_info": {
      "name": "python"
    }
  },
  "cells": [
    {
      "cell_type": "code",
      "execution_count": 1,
      "metadata": {
        "colab": {
          "base_uri": "https://localhost:8080/"
        },
        "id": "f5SV7dJC9iuL",
        "outputId": "c5f64aca-4def-47a8-b1cc-e48afd7209a5"
      },
      "outputs": [
        {
          "output_type": "stream",
          "name": "stdout",
          "text": [
            "Mounted at /content/drive\n",
            "Train samples: ['chicken_031.jpg', 'chicken_063.jpg', 'chicken_002.jpg', 'chicken_048.jpg', 'chicken_054.jpg']\n",
            "Test samples: ['chicken_102.jpg', 'chicken_103.jpg', 'chicken_101.jpg', 'chicken_120.jpg', 'chicken_118.jpg']\n"
          ]
        }
      ],
      "source": [
        "from google.colab import drive\n",
        "import os\n",
        "\n",
        "# Mount Google Drive\n",
        "drive.mount('/content/drive')\n",
        "\n",
        "# Define paths to your dataset\n",
        "train_path = '/content/drive/MyDrive/train1'\n",
        "test_path = '/content/drive/MyDrive/test1'\n",
        "\n",
        "# List few files to confirm\n",
        "print(\"Train samples:\", os.listdir(train_path)[:5])\n",
        "print(\"Test samples:\", os.listdir(test_path)[:5])\n"
      ]
    },
    {
      "cell_type": "markdown",
      "source": [
        "# Define image transform,dataset class and load data\n"
      ],
      "metadata": {
        "id": "LDbKczTVF9T2"
      }
    },
    {
      "cell_type": "code",
      "source": [
        "import os\n",
        "import glob\n",
        "from PIL import Image\n",
        "from sklearn.metrics import classification_report\n",
        "import torch\n",
        "import torch.nn as nn\n",
        "from torchvision import models, transforms\n",
        "from torch.utils.data import Dataset, DataLoader\n",
        "\n",
        "\n",
        "# Use this transform for pretrained models\n",
        "transform = transforms.Compose([\n",
        "    transforms.Resize((224, 224)),\n",
        "    transforms.ToTensor(),\n",
        "    transforms.Normalize(mean=[0.485, 0.456, 0.406],\n",
        "                         std=[0.229, 0.224, 0.225])\n",
        "])\n",
        "\n",
        "class DuckChickenDataset(Dataset):\n",
        "    def __init__(self, folder_path, transform=None):\n",
        "        self.image_paths = glob.glob(os.path.join(folder_path, '*.jpg'))\n",
        "        self.transform = transform\n",
        "\n",
        "    def __len__(self):\n",
        "        return len(self.image_paths)\n",
        "\n",
        "    def __getitem__(self, idx):\n",
        "        img_path = self.image_paths[idx]\n",
        "        image = Image.open(img_path).convert('RGB')\n",
        "        label = 0 if 'chicken' in os.path.basename(img_path).lower() else 1\n",
        "        if self.transform:\n",
        "            image = self.transform(image)\n",
        "        return image, label\n",
        "\n",
        "# Paths from Google Drive\n",
        "train_path = '/content/drive/MyDrive/train'\n",
        "test_path  = '/content/drive/MyDrive/test'\n",
        "\n",
        "# Create dataset and loader\n",
        "train_dataset = DuckChickenDataset(train_path, transform=transform)\n",
        "test_dataset  = DuckChickenDataset(test_path, transform=transform)\n",
        "\n",
        "train_loader = DataLoader(train_dataset, batch_size=16, shuffle=True)\n",
        "test_loader  = DataLoader(test_dataset, batch_size=16, shuffle=False)\n"
      ],
      "metadata": {
        "id": "F_t1qOo0AjKc"
      },
      "execution_count": 2,
      "outputs": []
    },
    {
      "cell_type": "markdown",
      "source": [
        "# Load and modify a pretrained CNN"
      ],
      "metadata": {
        "id": "jU09L4nXFj_i"
      }
    },
    {
      "cell_type": "code",
      "source": [
        "device = torch.device(\"cuda\" if torch.cuda.is_available() else \"cpu\")\n",
        "\n",
        "# Load pre-trained model\n",
        "model = models.resnet18(pretrained=True)\n",
        "\n",
        "# Freeze earlier layers (optional)\n",
        "for param in model.parameters():\n",
        "    param.requires_grad = False\n",
        "\n",
        "# Replace the final layer for binary classification\n",
        "model.fc = nn.Linear(model.fc.in_features, 2)\n",
        "model = model.to(device)\n"
      ],
      "metadata": {
        "colab": {
          "base_uri": "https://localhost:8080/"
        },
        "id": "8Pn6cessBVX2",
        "outputId": "0221fa2f-1160-43b8-a099-4b5cfc12746e"
      },
      "execution_count": 3,
      "outputs": [
        {
          "output_type": "stream",
          "name": "stderr",
          "text": [
            "/usr/local/lib/python3.11/dist-packages/torchvision/models/_utils.py:208: UserWarning: The parameter 'pretrained' is deprecated since 0.13 and may be removed in the future, please use 'weights' instead.\n",
            "  warnings.warn(\n",
            "/usr/local/lib/python3.11/dist-packages/torchvision/models/_utils.py:223: UserWarning: Arguments other than a weight enum or `None` for 'weights' are deprecated since 0.13 and may be removed in the future. The current behavior is equivalent to passing `weights=ResNet18_Weights.IMAGENET1K_V1`. You can also use `weights=ResNet18_Weights.DEFAULT` to get the most up-to-date weights.\n",
            "  warnings.warn(msg)\n",
            "Downloading: \"https://download.pytorch.org/models/resnet18-f37072fd.pth\" to /root/.cache/torch/hub/checkpoints/resnet18-f37072fd.pth\n",
            "100%|██████████| 44.7M/44.7M [00:00<00:00, 162MB/s]\n"
          ]
        }
      ]
    },
    {
      "cell_type": "markdown",
      "source": [
        "# Define loss, optimizer, and finetune the model"
      ],
      "metadata": {
        "id": "if-kMu0kFb2S"
      }
    },
    {
      "cell_type": "code",
      "source": [
        "criterion = nn.CrossEntropyLoss()\n",
        "optimizer = torch.optim.Adam(model.fc.parameters(), lr=1e-3)\n",
        "\n",
        "# Training loop\n",
        "for epoch in range(5):\n",
        "    model.train()\n",
        "    running_loss = 0.0\n",
        "    for images, labels in train_loader:\n",
        "        images, labels = images.to(device), labels.to(device)\n",
        "        optimizer.zero_grad()\n",
        "        outputs = model(images)\n",
        "        loss = criterion(outputs, labels)\n",
        "        loss.backward()\n",
        "        optimizer.step()\n",
        "        running_loss += loss.item()\n",
        "    print(f\"Epoch {epoch+1} Loss: {running_loss:.4f}\")\n"
      ],
      "metadata": {
        "colab": {
          "base_uri": "https://localhost:8080/"
        },
        "id": "L39vOYbkBpqN",
        "outputId": "cc77fa2c-693e-49b1-ba94-215c7e305520"
      },
      "execution_count": 4,
      "outputs": [
        {
          "output_type": "stream",
          "name": "stdout",
          "text": [
            "Epoch 1 Loss: 8.8927\n",
            "Epoch 2 Loss: 6.9983\n",
            "Epoch 3 Loss: 6.2032\n",
            "Epoch 4 Loss: 5.5868\n",
            "Epoch 5 Loss: 5.1639\n"
          ]
        }
      ]
    },
    {
      "cell_type": "markdown",
      "source": [
        "# Evaluation on test set"
      ],
      "metadata": {
        "id": "ZSb2qoG2FKaG"
      }
    },
    {
      "cell_type": "code",
      "source": [
        "model.eval()\n",
        "all_preds = []\n",
        "all_labels = []\n",
        "\n",
        "with torch.no_grad():\n",
        "    for images, labels in test_loader:\n",
        "        images = images.to(device)\n",
        "        outputs = model(images)\n",
        "        _, preds = torch.max(outputs, 1)\n",
        "        all_preds.extend(preds.cpu().numpy())\n",
        "        all_labels.extend(labels.numpy())\n",
        "\n",
        "print(classification_report(all_labels, all_preds, target_names=[\"Chicken\", \"Duck\"]))\n"
      ],
      "metadata": {
        "colab": {
          "base_uri": "https://localhost:8080/"
        },
        "id": "16q9G_wWBxwc",
        "outputId": "9d8e918d-5b3c-4192-b741-0ddbd2225c68"
      },
      "execution_count": 5,
      "outputs": [
        {
          "output_type": "stream",
          "name": "stdout",
          "text": [
            "              precision    recall  f1-score   support\n",
            "\n",
            "     Chicken       0.83      0.75      0.79        20\n",
            "        Duck       0.77      0.85      0.81        20\n",
            "\n",
            "    accuracy                           0.80        40\n",
            "   macro avg       0.80      0.80      0.80        40\n",
            "weighted avg       0.80      0.80      0.80        40\n",
            "\n"
          ]
        }
      ]
    }
  ]
}